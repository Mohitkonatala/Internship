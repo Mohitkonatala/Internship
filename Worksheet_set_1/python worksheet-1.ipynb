{
 "cells": [
  {
   "cell_type": "markdown",
   "id": "8875e3b5",
   "metadata": {},
   "source": [
    "**INTERSHIP 23, KONATALA MOHIT ID-34**"
   ]
  },
  {
   "cell_type": "markdown",
   "id": "31217a65",
   "metadata": {},
   "source": [
    "**Q11 to Q15 PROGRAMMING QUESTIONS**"
   ]
  },
  {
   "cell_type": "code",
   "execution_count": null,
   "id": "7a0bf8f7",
   "metadata": {},
   "outputs": [],
   "source": [
    "## Q11. python program to find the factorial of a number ##"
   ]
  },
  {
   "cell_type": "code",
   "execution_count": 70,
   "id": "9f4a9819",
   "metadata": {},
   "outputs": [
    {
     "name": "stdout",
     "output_type": "stream",
     "text": [
      "Enter a positive integer to find its factorical: 6\n",
      "The factorial of 6 is 720\n"
     ]
    }
   ],
   "source": [
    "def factorial(n):\n",
    "    if n < 0:\n",
    "        return 0\n",
    "    elif n == 0 or n == 1:\n",
    "        return 1\n",
    "    else:\n",
    "        fact = 1\n",
    "        while(n > 1):\n",
    "            fact *= n\n",
    "            n -= 1\n",
    "        return fact\n",
    "\n",
    "while True:\n",
    "    try:\n",
    "        number = int(input(\"Enter a positive integer to find its factorical: \"))\n",
    "        if(number>0):\n",
    "            print(\"The factorial of\",number,\"is\",factorial(number))\n",
    "        else:\n",
    "            print(\"The number entered is negative integer\")\n",
    "      \n",
    "    except ValueError & number>0:\n",
    "        print(\"Enter a valid number\")\n",
    "    else:\n",
    "        break\n",
    "            "
   ]
  },
  {
   "cell_type": "raw",
   "id": "1674e932",
   "metadata": {},
   "source": [
    "\n"
   ]
  },
  {
   "cell_type": "code",
   "execution_count": null,
   "id": "c9e34efb",
   "metadata": {},
   "outputs": [],
   "source": [
    "## Q12. python program to find whether a number is prime or composite ##"
   ]
  },
  {
   "cell_type": "code",
   "execution_count": 37,
   "id": "f51eb819",
   "metadata": {},
   "outputs": [
    {
     "name": "stdout",
     "output_type": "stream",
     "text": [
      "Enter an integer to find if it is prime or composite: 31\n",
      "31  is a prime number\n"
     ]
    }
   ],
   "source": [
    "while True:\n",
    "    try:\n",
    "        number = int(input(\"Enter an integer to find if it is prime or composite: \"))\n",
    "        number = abs(number)\n",
    "    except ValueError:\n",
    "        print(\"Enter a valid number\")\n",
    "    else:\n",
    "        break\n",
    "x=0\n",
    "if number>0:\n",
    "    for i in range (1,number+1):\n",
    "        if(number%i==0):\n",
    "            x += 1\n",
    "            \n",
    "if number==1:\n",
    "    print(\"1 is neither prime or composite\")\n",
    "elif x ==2:\n",
    "    print(number,\" is a prime number\")    \n",
    "else:\n",
    "    print(number,\" is a composite number\")\n",
    "   \n",
    " \n",
    "            \n",
    "        \n",
    "        "
   ]
  },
  {
   "cell_type": "raw",
   "id": "a603114c",
   "metadata": {},
   "source": []
  },
  {
   "cell_type": "code",
   "execution_count": null,
   "id": "01d119c2",
   "metadata": {},
   "outputs": [],
   "source": [
    "## Q13. python program to check whether a given string is palindrome or not ##"
   ]
  },
  {
   "cell_type": "code",
   "execution_count": 57,
   "id": "2f023e20",
   "metadata": {},
   "outputs": [
    {
     "name": "stdout",
     "output_type": "stream",
     "text": [
      "Enter an integer to check whether its palindrome or not 5\n",
      "Its a palindrome number\n"
     ]
    }
   ],
   "source": [
    "number=int(input(\"Enter an integer to check whether its palindrome or not \"))\n",
    "x=number\n",
    "palin_num=0\n",
    "while x!=0:\n",
    "    n=x%10\n",
    "    palin_num= palin_num+n\n",
    "    x= (x-n)/10   \n",
    "    if x!=0:\n",
    "        palin_num=palin_num*10\n",
    "if palin_num==number:\n",
    "    print(\"Its a palindrome number\")\n",
    "else:\n",
    "    print(\"Its not a palindrome number\")\n",
    "\n"
   ]
  },
  {
   "cell_type": "raw",
   "id": "dfc0eb64",
   "metadata": {},
   "source": []
  },
  {
   "cell_type": "code",
   "execution_count": null,
   "id": "d1b20b8a",
   "metadata": {},
   "outputs": [],
   "source": [
    "## Q14.  python program to get the third side of right-angled triangle from two given sides ##"
   ]
  },
  {
   "cell_type": "code",
   "execution_count": 59,
   "id": "df106843",
   "metadata": {},
   "outputs": [
    {
     "name": "stdout",
     "output_type": "stream",
     "text": [
      "Enter the values of triangle sides : 2 3 4\n",
      "3.605551275463989  is the hypotunse of the Triangle\n"
     ]
    }
   ],
   "source": [
    "import math\n",
    "def hyp(x):\n",
    "  z=math.sqrt(math.pow(x[0],2)+math.pow(x[1],2))\n",
    "  print(z,\" is the hypotunse of the Triangle\")\n",
    "\n",
    "val=[]\n",
    "val=val[:2]\n",
    "val = [int(item) for item in input(\"Enter the two values of triangle sides : \").split()]\n",
    "hyp(val)"
   ]
  },
  {
   "cell_type": "raw",
   "id": "4e18793e",
   "metadata": {},
   "source": []
  },
  {
   "cell_type": "code",
   "execution_count": 60,
   "id": "a0e702d3",
   "metadata": {},
   "outputs": [],
   "source": [
    "##  Q15. python program to print the frequency of each of the characters present in a given string ##"
   ]
  },
  {
   "cell_type": "code",
   "execution_count": 74,
   "id": "24638c6d",
   "metadata": {},
   "outputs": [
    {
     "name": "stdout",
     "output_type": "stream",
     "text": [
      "Enter the word to check the frequency of characters in it: gOOgLE\n",
      "Frequency of each character in word 'google' is\n",
      "{'g': 2, 'o': 2, 'l': 1, 'e': 1}\n"
     ]
    }
   ],
   "source": [
    "word=[]\n",
    "word=str(input(\"Enter the word to check the frequency of characters in it: \"))\n",
    "word=word.lower()\n",
    "char_freq={}\n",
    "for i in word:\n",
    "    if i in char_freq:\n",
    "        char_freq[i] += 1\n",
    "    else:\n",
    "        char_freq[i] = 1\n",
    "print(\"Frequency of each character in word '\"+ word +\"' is\\n\" +str(char_freq))"
   ]
  },
  {
   "cell_type": "raw",
   "id": "548f30f7",
   "metadata": {},
   "source": []
  }
 ],
 "metadata": {
  "kernelspec": {
   "display_name": "Python 3",
   "language": "python",
   "name": "python3"
  },
  "language_info": {
   "codemirror_mode": {
    "name": "ipython",
    "version": 3
   },
   "file_extension": ".py",
   "mimetype": "text/x-python",
   "name": "python",
   "nbconvert_exporter": "python",
   "pygments_lexer": "ipython3",
   "version": "3.8.8"
  }
 },
 "nbformat": 4,
 "nbformat_minor": 5
}
